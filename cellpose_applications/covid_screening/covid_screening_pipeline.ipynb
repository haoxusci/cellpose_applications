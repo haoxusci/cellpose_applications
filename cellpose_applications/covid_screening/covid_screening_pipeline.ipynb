{
 "cells": [
  {
   "cell_type": "markdown",
   "metadata": {},
   "source": [
    "## Covid cell infection statistics calculation"
   ]
  },
  {
   "cell_type": "markdown",
   "metadata": {},
   "source": [
    "### folder and files viariables"
   ]
  },
  {
   "cell_type": "code",
   "execution_count": null,
   "metadata": {},
   "outputs": [],
   "source": [
    "import os\n",
    "image_folder = '/home/haoxu/data/Images'\n",
    "processed_folder = image_folder + \"_processed\"\n",
    "quantify_csv_file = os.path.join(processed_folder, 'quantify_all.csv')\n",
    "condition_xlsx_file = '../../data/Plate map test plates 2020-11-25.xlsx'\n",
    "os.path.exists(condition_xlsx_file)"
   ]
  },
  {
   "cell_type": "markdown",
   "metadata": {},
   "source": [
    "### run segmentation and quantification"
   ]
  },
  {
   "cell_type": "code",
   "execution_count": null,
   "metadata": {},
   "outputs": [],
   "source": [
    "import pandas as pd\n",
    "from matplotlib import pyplot as plt\n",
    "from cellpose_applications.covid_screening.covid_screening_quantify import quantify_all_fovs, combine_all_quantify"
   ]
  },
  {
   "cell_type": "code",
   "execution_count": null,
   "metadata": {},
   "outputs": [],
   "source": [
    "#quantify_all_fovs(image_folder)"
   ]
  },
  {
   "cell_type": "markdown",
   "metadata": {},
   "source": [
    "### combine csv data of all images"
   ]
  },
  {
   "cell_type": "code",
   "execution_count": null,
   "metadata": {},
   "outputs": [],
   "source": [
    "#combine_all_quantify(processed_folder)"
   ]
  },
  {
   "cell_type": "markdown",
   "metadata": {},
   "source": [
    "### write the treatments to data"
   ]
  },
  {
   "cell_type": "code",
   "execution_count": null,
   "metadata": {},
   "outputs": [],
   "source": [
    "import os\n",
    "import pandas as pd\n",
    "import numpy as np\n",
    "from cellpose_applications.covid_screening.covid_screening_quantify import write_conditions"
   ]
  },
  {
   "cell_type": "code",
   "execution_count": null,
   "metadata": {},
   "outputs": [],
   "source": [
    "# write the conditions to csv\n",
    "write_conditions(quantify_csv_file, condition_xlsx_file)"
   ]
  },
  {
   "cell_type": "markdown",
   "metadata": {},
   "source": [
    "### define cell infection"
   ]
  },
  {
   "cell_type": "code",
   "execution_count": null,
   "metadata": {},
   "outputs": [],
   "source": [
    "import pandas as pd\n",
    "import os\n",
    "from imageio import imread\n",
    "from matplotlib import pyplot as plt\n",
    "from skimage import segmentation, morphology, exposure\n",
    "import numpy as np"
   ]
  },
  {
   "cell_type": "code",
   "execution_count": null,
   "metadata": {},
   "outputs": [],
   "source": [
    "df = pd.read_csv(quantify_csv_file)"
   ]
  },
  {
   "cell_type": "code",
   "execution_count": null,
   "metadata": {},
   "outputs": [],
   "source": [
    "# use the max 4 percent in infection channel\n",
    "plt.hist(df.last4percentmean.to_list(), range=(0, 15000), bins=800) # adjust the range for better visualization"
   ]
  },
  {
   "cell_type": "code",
   "execution_count": null,
   "metadata": {},
   "outputs": [],
   "source": [
    "#plt.hist(df.cell_mean.to_list(), range=(0, 6000), bins=800)"
   ]
  },
  {
   "cell_type": "code",
   "execution_count": null,
   "metadata": {},
   "outputs": [],
   "source": [
    "#plt.hist(df.cell_integ.to_list(), range=(0, 4E6), bins=800)"
   ]
  },
  {
   "cell_type": "code",
   "execution_count": null,
   "metadata": {},
   "outputs": [],
   "source": [
    "# define the threshold value based on the plot above\n",
    "threshold_value = 4200"
   ]
  },
  {
   "cell_type": "code",
   "execution_count": null,
   "metadata": {},
   "outputs": [],
   "source": [
    "# define which cells are infected\n",
    "df  = df.assign(**dict.fromkeys([\"Infected\"], 0))\n",
    "df.loc[df.last4percentmean > threshold_value, 'Infected'] = 1"
   ]
  },
  {
   "cell_type": "markdown",
   "metadata": {},
   "source": [
    "### verify cell _infection"
   ]
  },
  {
   "cell_type": "code",
   "execution_count": null,
   "metadata": {},
   "outputs": [],
   "source": [
    "well_fovs = list(set(df.well_fov.to_list()))\n",
    "#well_fovs"
   ]
  },
  {
   "cell_type": "code",
   "execution_count": null,
   "metadata": {},
   "outputs": [],
   "source": [
    "import random\n",
    "from cellpose_applications.covid_screening.covid_screening_quantify import show_infections"
   ]
  },
  {
   "cell_type": "code",
   "execution_count": null,
   "metadata": {},
   "outputs": [],
   "source": [
    "# show a random sample to see if the infected cells are correctly picked out.\n",
    "# if not, fine tune the threshold_value and run\n",
    "well_fov = random.choice(well_fovs) #'r14c24f02'\n",
    "print(well_fov)\n",
    "img = show_infections(df, well_fov, dim_er=True, contour=True, show_er=True)\n",
    "fig, axes = plt.subplots(nrows=1, ncols=1, figsize=(40, 40))\n",
    "axes.imshow(img/img.max())"
   ]
  },
  {
   "cell_type": "markdown",
   "metadata": {},
   "source": [
    "### plot plate map for infections"
   ]
  },
  {
   "cell_type": "code",
   "execution_count": null,
   "metadata": {},
   "outputs": [],
   "source": [
    "from cellpose_applications.covid_screening.covid_screening_quantify import plate_plots"
   ]
  },
  {
   "cell_type": "code",
   "execution_count": null,
   "metadata": {},
   "outputs": [],
   "source": [
    "plate_plots(processed_folder, infection_threshold=threshold_value)"
   ]
  },
  {
   "cell_type": "markdown",
   "metadata": {},
   "source": [
    "### get analysis result"
   ]
  },
  {
   "cell_type": "code",
   "execution_count": null,
   "metadata": {},
   "outputs": [],
   "source": [
    "import os\n",
    "import numpy as np\n",
    "import pandas as pd\n",
    "import seaborn as sns"
   ]
  },
  {
   "cell_type": "code",
   "execution_count": null,
   "metadata": {},
   "outputs": [],
   "source": [
    "infection_data = os.path.join(processed_folder, 'infection_data.csv')\n",
    "df_infection = pd.read_csv(infection_data)\n",
    "#df_infection"
   ]
  },
  {
   "cell_type": "code",
   "execution_count": null,
   "metadata": {},
   "outputs": [],
   "source": [
    "# plot the layout for treatments for the plate\n",
    "compound_array = np.full((16, 24), 'Empty')\n",
    "for row in range(1, 17):\n",
    "    for column in range(1, 25):\n",
    "        well_id = f\"r{row:02d}c{column:02d}\"\n",
    "        #print(well_id)\n",
    "        df_well = df_infection[df_infection.well_id==well_id]\n",
    "        if len(df_well):\n",
    "            compound_array[row - 1, column - 1] = df_well.Compound.to_list()[0]\n",
    "            #compound_array.append(df_well.Compound.to_list()[0])\n",
    "            #print(a)\n",
    "        else:\n",
    "            continue\n",
    "\n",
    "fig, axs = plt.subplots(16, 24, figsize=(28, 16))\n",
    "rows = 'abcdefghijklmnop'.upper()\n",
    "for row in range(16):\n",
    "    for column in range(24):\n",
    "        axs[row, column].text(\n",
    "            0.5,\n",
    "            0.5,\n",
    "            compound_array[row, column],\n",
    "            transform=axs[row, column].transAxes,\n",
    "            fontsize=12,\n",
    "            horizontalalignment='center',\n",
    "            verticalalignment='center')\n",
    "        axs[row, column].set_yticks([])\n",
    "        axs[row, column].set_xticks([])\n",
    "        if not column:\n",
    "            axs[row, column].set_ylabel(rows[row], rotation=0, fontsize=25, verticalalignment='center')\n",
    "        if row==15:\n",
    "            #axs[row, column].invert_yaxis()\n",
    "            axs[row, column].set_xlabel(str(column + 1), rotation=0, fontsize=25)\n",
    "plt.tight_layout()\n",
    "plt.show()"
   ]
  },
  {
   "cell_type": "markdown",
   "metadata": {},
   "source": [
    "### calculate z-prime statistic"
   ]
  },
  {
   "cell_type": "code",
   "execution_count": null,
   "metadata": {},
   "outputs": [],
   "source": [
    "df_DMSO = df_infection.loc[df_infection['Compound']=='DMSO']\n",
    "df_DMSO = df_DMSO.assign(**dict.fromkeys([\"DMSO_control\"], np.nan))\n",
    "\n",
    "DMSO_control_columns = ['23', '24']\n",
    "df_DMSO[\"DMSO_control\"] = df_DMSO.well_id.apply(lambda item: 1 if item[4:] in DMSO_control_columns else 0)\n",
    "\n",
    "wells_noninfection = df_DMSO[df_DMSO[\"DMSO_control\"]==1]\n",
    "wells_noninfection_rates = wells_noninfection.infection_rates.to_list()\n",
    "DMSO_control_rates_stat = {\n",
    "    'mean': np.mean(wells_noninfection_rates),\n",
    "    'std': np.std(wells_noninfection_rates)\n",
    "}\n",
    "\n",
    "wells_infection = df_DMSO[df_DMSO[\"DMSO_control\"]==0]\n",
    "wells_infection_rates = wells_infection.infection_rates.to_list()\n",
    "DMSO_infection_rates_stat = {\n",
    "    'mean': np.mean(wells_infection_rates),\n",
    "    'std': np.std(wells_infection_rates)\n",
    "}\n",
    "\n",
    "print('DMSO_infection_rates_stat: ', DMSO_infection_rates_stat)\n",
    "print('DMSO_control_rates_stat: ', DMSO_control_rates_stat)\n",
    "z_factor = 1 - (\n",
    "    3 * (DMSO_infection_rates_stat['std'] + DMSO_control_rates_stat['std']) / \\\n",
    "    np.abs(DMSO_infection_rates_stat['mean'] - DMSO_control_rates_stat['mean'])\n",
    ")\n",
    "print('z factor: ', z_factor)"
   ]
  },
  {
   "cell_type": "code",
   "execution_count": null,
   "metadata": {},
   "outputs": [],
   "source": []
  }
 ],
 "metadata": {
  "kernelspec": {
   "display_name": "Python 3",
   "language": "python",
   "name": "python3"
  },
  "language_info": {
   "codemirror_mode": {
    "name": "ipython",
    "version": 3
   },
   "file_extension": ".py",
   "mimetype": "text/x-python",
   "name": "python",
   "nbconvert_exporter": "python",
   "pygments_lexer": "ipython3",
   "version": "3.7.9"
  }
 },
 "nbformat": 4,
 "nbformat_minor": 4
}
