{
 "cells": [
  {
   "cell_type": "markdown",
   "metadata": {},
   "source": [
    "### generate the pandas data"
   ]
  },
  {
   "cell_type": "code",
   "execution_count": null,
   "metadata": {},
   "outputs": [],
   "source": [
    "import pandas as pd\n",
    "from matplotlib import pyplot as plt\n",
    "from covid_screening_quantify import quantify_all_fovs, combine_all_quantify, write_conditions"
   ]
  },
  {
   "cell_type": "code",
   "execution_count": null,
   "metadata": {},
   "outputs": [],
   "source": [
    "# test parameter\n",
    "#image_folder = '/home/haoxu/data/Images'"
   ]
  },
  {
   "cell_type": "code",
   "execution_count": null,
   "metadata": {},
   "outputs": [],
   "source": [
    "#quantify_all_fovs(image_folder)"
   ]
  },
  {
   "cell_type": "markdown",
   "metadata": {},
   "source": [
    "### combine csv data of all images"
   ]
  },
  {
   "cell_type": "code",
   "execution_count": null,
   "metadata": {},
   "outputs": [],
   "source": [
    "#processed_folder = \"/home/haoxu/data/Images_processed\""
   ]
  },
  {
   "cell_type": "code",
   "execution_count": null,
   "metadata": {},
   "outputs": [],
   "source": [
    "#combine_all_quantify(processed_folder)"
   ]
  },
  {
   "cell_type": "markdown",
   "metadata": {},
   "source": [
    "### generate the pandas data end"
   ]
  },
  {
   "cell_type": "markdown",
   "metadata": {},
   "source": [
    "### get the conditions"
   ]
  },
  {
   "cell_type": "code",
   "execution_count": null,
   "metadata": {},
   "outputs": [],
   "source": [
    "import os\n",
    "import pandas as pd\n",
    "import numpy as np"
   ]
  },
  {
   "cell_type": "code",
   "execution_count": null,
   "metadata": {},
   "outputs": [],
   "source": [
    "# write the conditions to csv\n",
    "processed_folder = \"/home/haoxu/data/Images_processed\"\n",
    "quantify_csv_file = os.path.join(processed_folder, 'quantify_all.csv')\n",
    "condition_xlsx_file = 'test/Plate map test plates 2020-11-25.xlsx'\n",
    "write_conditions(quantify_csv_file, condition_xlsx_file)"
   ]
  },
  {
   "cell_type": "markdown",
   "metadata": {},
   "source": [
    "### define cell infection"
   ]
  },
  {
   "cell_type": "code",
   "execution_count": null,
   "metadata": {},
   "outputs": [],
   "source": [
    "import pandas as pd\n",
    "import os\n",
    "from imageio import imread\n",
    "from matplotlib import pyplot as plt\n",
    "from skimage import segmentation, morphology, exposure\n",
    "import numpy as np"
   ]
  },
  {
   "cell_type": "code",
   "execution_count": null,
   "metadata": {},
   "outputs": [],
   "source": [
    "processed_folder = \"/home/haoxu/data/Images_processed\"\n",
    "df = pd.read_csv(os.path.join(processed_folder, 'quantify_all.csv'))"
   ]
  },
  {
   "cell_type": "code",
   "execution_count": null,
   "metadata": {},
   "outputs": [],
   "source": [
    "# use the max 4 percent in infection channel\n",
    "plt.hist(df.last4percentmean.to_list(), range=(0, 20000), bins=800)"
   ]
  },
  {
   "cell_type": "code",
   "execution_count": null,
   "metadata": {},
   "outputs": [],
   "source": [
    "# define the threshold value based on the plot above\n",
    "threshold_value = 4500"
   ]
  },
  {
   "cell_type": "code",
   "execution_count": null,
   "metadata": {},
   "outputs": [],
   "source": [
    "df  = df.assign(**dict.fromkeys([\"Infected\"], 0))\n",
    "df.loc[df.last4percentmean > threshold_value, 'Infected'] = 1"
   ]
  },
  {
   "cell_type": "markdown",
   "metadata": {},
   "source": [
    "### define cell infection end"
   ]
  },
  {
   "cell_type": "markdown",
   "metadata": {},
   "source": [
    "### verify cell _infection"
   ]
  },
  {
   "cell_type": "code",
   "execution_count": null,
   "metadata": {},
   "outputs": [],
   "source": [
    "well_fovs = list(set(df.well_fov.to_list()))\n",
    "#well_fovs"
   ]
  },
  {
   "cell_type": "code",
   "execution_count": null,
   "metadata": {},
   "outputs": [],
   "source": [
    "import random\n",
    "from covid_screening_quantify import show_infections"
   ]
  },
  {
   "cell_type": "code",
   "execution_count": null,
   "metadata": {},
   "outputs": [],
   "source": [
    "# show a random sample to see if the infected cells are correctly picked out.\n",
    "# if not, fine tune the threshold_value and run\n",
    "well_fov = random.choice(well_fovs)#'r02c16f04'\n",
    "print(well_fov)\n",
    "img = show_infections(df, well_fov, dim_er=True, contour=True, show_er=False)\n",
    "fig, axes = plt.subplots(nrows=1, ncols=1, figsize=(40, 40))\n",
    "#ax = axes.ravel()\n",
    "axes.imshow(img/img.max())"
   ]
  },
  {
   "cell_type": "markdown",
   "metadata": {},
   "source": [
    "### plot plate map for infections"
   ]
  },
  {
   "cell_type": "code",
   "execution_count": null,
   "metadata": {},
   "outputs": [],
   "source": [
    "from covid_screening_quantify import plate_plots"
   ]
  },
  {
   "cell_type": "code",
   "execution_count": null,
   "metadata": {},
   "outputs": [],
   "source": [
    "processed_folder = \"/home/haoxu/data/Images_processed\"\n",
    "plate_plots(processed_folder, infection_threshold=4500)"
   ]
  },
  {
   "cell_type": "markdown",
   "metadata": {},
   "source": [
    "### get analysis result"
   ]
  },
  {
   "cell_type": "code",
   "execution_count": 1,
   "metadata": {},
   "outputs": [],
   "source": [
    "import os\n",
    "import numpy as np\n",
    "import pandas as pd\n",
    "#from covid_screening_quantify import plate_plots, plate_infection\n",
    "#infection_data = plate_infection(processed_folder, infection_threshold=3000)\n",
    "#infection_data"
   ]
  },
  {
   "cell_type": "code",
   "execution_count": 2,
   "metadata": {},
   "outputs": [
    {
     "data": {
      "text/html": [
       "<div>\n",
       "<style scoped>\n",
       "    .dataframe tbody tr th:only-of-type {\n",
       "        vertical-align: middle;\n",
       "    }\n",
       "\n",
       "    .dataframe tbody tr th {\n",
       "        vertical-align: top;\n",
       "    }\n",
       "\n",
       "    .dataframe thead th {\n",
       "        text-align: right;\n",
       "    }\n",
       "</style>\n",
       "<table border=\"1\" class=\"dataframe\">\n",
       "  <thead>\n",
       "    <tr style=\"text-align: right;\">\n",
       "      <th></th>\n",
       "      <th>well_id</th>\n",
       "      <th>cell_counts</th>\n",
       "      <th>infected_cell_counts</th>\n",
       "      <th>infection_rates</th>\n",
       "      <th>Compound</th>\n",
       "    </tr>\n",
       "  </thead>\n",
       "  <tbody>\n",
       "    <tr>\n",
       "      <th>0</th>\n",
       "      <td>r14c07</td>\n",
       "      <td>5791</td>\n",
       "      <td>1749</td>\n",
       "      <td>30.20</td>\n",
       "      <td>Favipiravir</td>\n",
       "    </tr>\n",
       "    <tr>\n",
       "      <th>1</th>\n",
       "      <td>r02c03</td>\n",
       "      <td>5371</td>\n",
       "      <td>1088</td>\n",
       "      <td>20.26</td>\n",
       "      <td>Favipiravir</td>\n",
       "    </tr>\n",
       "    <tr>\n",
       "      <th>2</th>\n",
       "      <td>r11c18</td>\n",
       "      <td>6323</td>\n",
       "      <td>1124</td>\n",
       "      <td>17.78</td>\n",
       "      <td>Favipiravir</td>\n",
       "    </tr>\n",
       "    <tr>\n",
       "      <th>3</th>\n",
       "      <td>r13c21</td>\n",
       "      <td>2562</td>\n",
       "      <td>1605</td>\n",
       "      <td>62.65</td>\n",
       "      <td>Favipiravir</td>\n",
       "    </tr>\n",
       "    <tr>\n",
       "      <th>4</th>\n",
       "      <td>r08c10</td>\n",
       "      <td>4681</td>\n",
       "      <td>2166</td>\n",
       "      <td>46.27</td>\n",
       "      <td>Favipiravir</td>\n",
       "    </tr>\n",
       "    <tr>\n",
       "      <th>...</th>\n",
       "      <td>...</td>\n",
       "      <td>...</td>\n",
       "      <td>...</td>\n",
       "      <td>...</td>\n",
       "      <td>...</td>\n",
       "    </tr>\n",
       "    <tr>\n",
       "      <th>377</th>\n",
       "      <td>r04c06</td>\n",
       "      <td>5647</td>\n",
       "      <td>1251</td>\n",
       "      <td>22.15</td>\n",
       "      <td>D-Sorbitol</td>\n",
       "    </tr>\n",
       "    <tr>\n",
       "      <th>378</th>\n",
       "      <td>r16c08</td>\n",
       "      <td>4270</td>\n",
       "      <td>1699</td>\n",
       "      <td>39.79</td>\n",
       "      <td>D-Sorbitol</td>\n",
       "    </tr>\n",
       "    <tr>\n",
       "      <th>379</th>\n",
       "      <td>r04c18</td>\n",
       "      <td>4815</td>\n",
       "      <td>1915</td>\n",
       "      <td>39.77</td>\n",
       "      <td>D-Sorbitol</td>\n",
       "    </tr>\n",
       "    <tr>\n",
       "      <th>380</th>\n",
       "      <td>r06c19</td>\n",
       "      <td>4750</td>\n",
       "      <td>1759</td>\n",
       "      <td>37.03</td>\n",
       "      <td>D-Sorbitol</td>\n",
       "    </tr>\n",
       "    <tr>\n",
       "      <th>381</th>\n",
       "      <td>r12c15</td>\n",
       "      <td>3823</td>\n",
       "      <td>2148</td>\n",
       "      <td>56.19</td>\n",
       "      <td>D-Sorbitol</td>\n",
       "    </tr>\n",
       "  </tbody>\n",
       "</table>\n",
       "<p>382 rows × 5 columns</p>\n",
       "</div>"
      ],
      "text/plain": [
       "    well_id  cell_counts  infected_cell_counts  infection_rates     Compound\n",
       "0    r14c07         5791                  1749            30.20  Favipiravir\n",
       "1    r02c03         5371                  1088            20.26  Favipiravir\n",
       "2    r11c18         6323                  1124            17.78  Favipiravir\n",
       "3    r13c21         2562                  1605            62.65  Favipiravir\n",
       "4    r08c10         4681                  2166            46.27  Favipiravir\n",
       "..      ...          ...                   ...              ...          ...\n",
       "377  r04c06         5647                  1251            22.15   D-Sorbitol\n",
       "378  r16c08         4270                  1699            39.79   D-Sorbitol\n",
       "379  r04c18         4815                  1915            39.77   D-Sorbitol\n",
       "380  r06c19         4750                  1759            37.03   D-Sorbitol\n",
       "381  r12c15         3823                  2148            56.19   D-Sorbitol\n",
       "\n",
       "[382 rows x 5 columns]"
      ]
     },
     "execution_count": 2,
     "metadata": {},
     "output_type": "execute_result"
    }
   ],
   "source": [
    "processed_folder = \"/home/haoxu/data/Images_processed\"\n",
    "infection_data = os.path.join(processed_folder, 'infection_data.csv')\n",
    "df_infection = pd.read_csv(infection_data)\n",
    "df_infection"
   ]
  },
  {
   "cell_type": "code",
   "execution_count": null,
   "metadata": {},
   "outputs": [],
   "source": [
    "#df_DMSO = df_infection.loc[df_infection['Compound']=='DMSO']\n",
    "#df_DMSO = df_DMSO.assign(**dict.fromkeys([\"control\"], np.nan))\n",
    "#DMSO_control_columns = ['23', '24']\n",
    "#df_DMSO[\"control\"] = \\\n",
    "#    df_DMSO.well_id.apply(lambda item: 1 if item[4:] in DMSO_control_columns else 0)\n",
    "#df_DMSO.loc[(df_DMSO[\"control\"]==1)&(df_DMSO['Compound']=='DMSO')]"
   ]
  },
  {
   "cell_type": "markdown",
   "metadata": {},
   "source": [
    "### calculate z-prime statistic"
   ]
  },
  {
   "cell_type": "code",
   "execution_count": 3,
   "metadata": {},
   "outputs": [
    {
     "name": "stdout",
     "output_type": "stream",
     "text": [
      "DMSO_infection_rates_stat:  {'mean': 36.53902040816325, 'std': 13.467170598843657}\n",
      "DMSO_control_rates_stat:  {'mean': 7.46, 'std': 10.195188734561677}\n",
      "z factor:  -1.4411784511244417\n"
     ]
    }
   ],
   "source": [
    "df_DMSO = df_infection.loc[df_infection['Compound']=='DMSO']\n",
    "df_DMSO = df_DMSO.assign(**dict.fromkeys([\"DMSO_control\"], np.nan))\n",
    "\n",
    "DMSO_control_columns = ['23', '24']\n",
    "df_DMSO[\"DMSO_control\"] = df_DMSO.well_id.apply(lambda item: 1 if item[4:] in DMSO_control_columns else 0)\n",
    "\n",
    "wells_noninfection = df_DMSO[df_DMSO[\"DMSO_control\"]==1]\n",
    "wells_noninfection_rates = wells_noninfection.infection_rates.to_list()\n",
    "DMSO_control_rates_stat = {\n",
    "    'mean': np.mean(wells_noninfection_rates),\n",
    "    'std': np.std(wells_noninfection_rates)\n",
    "}\n",
    "\n",
    "wells_infection = df_DMSO[df_DMSO[\"DMSO_control\"]==0]\n",
    "wells_infection_rates = wells_infection.infection_rates.to_list()\n",
    "DMSO_infection_rates_stat = {\n",
    "    'mean': np.mean(wells_infection_rates),\n",
    "    'std': np.std(wells_infection_rates)\n",
    "}\n",
    "\n",
    "print('DMSO_infection_rates_stat: ', DMSO_infection_rates_stat)\n",
    "print('DMSO_control_rates_stat: ', DMSO_control_rates_stat)\n",
    "z_factor = 1 - (\n",
    "    3 * (DMSO_infection_rates_stat['std'] + DMSO_control_rates_stat['std']) / \\\n",
    "    np.abs(DMSO_infection_rates_stat['mean'] - DMSO_control_rates_stat['mean'])\n",
    ")\n",
    "print('z factor: ', z_factor)"
   ]
  },
  {
   "cell_type": "code",
   "execution_count": null,
   "metadata": {},
   "outputs": [],
   "source": [
    "wells_noninfection_rates"
   ]
  },
  {
   "cell_type": "code",
   "execution_count": null,
   "metadata": {},
   "outputs": [],
   "source": [
    "df_DMSO[df_DMSO[\"DMSO_control\"]==2]"
   ]
  },
  {
   "cell_type": "code",
   "execution_count": null,
   "metadata": {},
   "outputs": [],
   "source": [
    "wells_noninfection[wells_noninfection['infection_rates'] > 20]"
   ]
  },
  {
   "cell_type": "code",
   "execution_count": null,
   "metadata": {},
   "outputs": [],
   "source": []
  }
 ],
 "metadata": {
  "kernelspec": {
   "display_name": "Python 3",
   "language": "python",
   "name": "python3"
  },
  "language_info": {
   "codemirror_mode": {
    "name": "ipython",
    "version": 3
   },
   "file_extension": ".py",
   "mimetype": "text/x-python",
   "name": "python",
   "nbconvert_exporter": "python",
   "pygments_lexer": "ipython3",
   "version": "3.7.9"
  }
 },
 "nbformat": 4,
 "nbformat_minor": 4
}
