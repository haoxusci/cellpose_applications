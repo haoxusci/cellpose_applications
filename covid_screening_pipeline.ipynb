{
 "cells": [
  {
   "cell_type": "markdown",
   "metadata": {},
   "source": [
    "### generate the pandas data"
   ]
  },
  {
   "cell_type": "code",
   "execution_count": 1,
   "metadata": {},
   "outputs": [
    {
     "name": "stdout",
     "output_type": "stream",
     "text": [
      "** TORCH CUDA version installed and working. **\n"
     ]
    }
   ],
   "source": [
    "import pandas as pd\n",
    "from matplotlib import pyplot as plt\n",
    "from covid_screening_quantify import quantify_all_fovs, combine_all_quantify"
   ]
  },
  {
   "cell_type": "code",
   "execution_count": 2,
   "metadata": {},
   "outputs": [],
   "source": [
    "# test parameter\n",
    "#image_folder = '/home/haoxu/data/test_data_20201218/40x'"
   ]
  },
  {
   "cell_type": "code",
   "execution_count": 3,
   "metadata": {},
   "outputs": [],
   "source": [
    "#quantify_all_fovs(image_folder)"
   ]
  },
  {
   "cell_type": "code",
   "execution_count": 4,
   "metadata": {},
   "outputs": [],
   "source": [
    "#processed_folder = '/home/haoxu/data/test_data_20201218/40x_processed'"
   ]
  },
  {
   "cell_type": "code",
   "execution_count": 5,
   "metadata": {},
   "outputs": [],
   "source": [
    "processed_folder = \"/home/haoxu/data/Images_processed\""
   ]
  },
  {
   "cell_type": "code",
   "execution_count": 6,
   "metadata": {},
   "outputs": [],
   "source": [
    "combine_all_quantify(processed_folder)"
   ]
  },
  {
   "cell_type": "markdown",
   "metadata": {},
   "source": [
    "### generate the pandas data end"
   ]
  },
  {
   "cell_type": "markdown",
   "metadata": {},
   "source": [
    "### define cell infection"
   ]
  },
  {
   "cell_type": "code",
   "execution_count": 7,
   "metadata": {},
   "outputs": [],
   "source": [
    "import pandas as pd\n",
    "import os\n",
    "from imageio import imread\n",
    "from matplotlib import pyplot as plt\n",
    "from skimage import segmentation, morphology, exposure\n",
    "import numpy as np"
   ]
  },
  {
   "cell_type": "code",
   "execution_count": 8,
   "metadata": {},
   "outputs": [],
   "source": [
    "df = pd.read_csv('/home/haoxu/data/Images_processed/quantify_all.csv')"
   ]
  },
  {
   "cell_type": "code",
   "execution_count": 9,
   "metadata": {},
   "outputs": [
    {
     "data": {
      "text/plain": [
       "(array([0.0000e+00, 0.0000e+00, 0.0000e+00, 0.0000e+00, 0.0000e+00,\n",
       "        0.0000e+00, 0.0000e+00, 0.0000e+00, 0.0000e+00, 0.0000e+00,\n",
       "        0.0000e+00, 3.0000e+00, 8.5000e+01, 2.3500e+02, 4.2400e+02,\n",
       "        7.1300e+02, 9.9600e+02, 1.5210e+03, 2.2630e+03, 3.2400e+03,\n",
       "        5.1940e+03, 8.1710e+03, 1.2374e+04, 1.5197e+04, 1.4982e+04,\n",
       "        1.3572e+04, 1.0014e+04, 5.7070e+03, 3.8810e+03, 3.0670e+03,\n",
       "        3.0040e+03, 3.1020e+03, 3.3660e+03, 3.5820e+03, 3.6420e+03,\n",
       "        3.6660e+03, 3.9090e+03, 4.0180e+03, 4.1770e+03, 4.1940e+03,\n",
       "        4.2960e+03, 4.4640e+03, 4.4980e+03, 4.7670e+03, 4.9140e+03,\n",
       "        5.0360e+03, 5.1810e+03, 5.2850e+03, 5.4980e+03, 5.4080e+03,\n",
       "        5.6190e+03, 5.8610e+03, 5.9820e+03, 5.9980e+03, 6.0200e+03,\n",
       "        6.2430e+03, 6.3770e+03, 6.4320e+03, 6.4040e+03, 6.6780e+03,\n",
       "        6.5640e+03, 6.9440e+03, 6.8770e+03, 6.9460e+03, 6.9620e+03,\n",
       "        7.1550e+03, 7.1260e+03, 7.2080e+03, 7.0740e+03, 7.3110e+03,\n",
       "        7.2100e+03, 7.1560e+03, 7.3330e+03, 7.1880e+03, 7.3110e+03,\n",
       "        7.3630e+03, 7.3270e+03, 7.2260e+03, 7.4160e+03, 7.3150e+03,\n",
       "        7.1370e+03, 7.1950e+03, 7.2360e+03, 7.0930e+03, 7.2570e+03,\n",
       "        7.2500e+03, 7.1200e+03, 7.2430e+03, 7.0960e+03, 7.2650e+03,\n",
       "        7.0840e+03, 7.0390e+03, 7.0180e+03, 6.8300e+03, 6.8650e+03,\n",
       "        6.8450e+03, 6.6330e+03, 6.7220e+03, 6.7160e+03, 6.5850e+03,\n",
       "        6.4540e+03, 6.4690e+03, 6.3510e+03, 6.4980e+03, 6.3290e+03,\n",
       "        6.2780e+03, 6.1410e+03, 6.2620e+03, 6.0080e+03, 6.0220e+03,\n",
       "        5.9630e+03, 5.8830e+03, 5.9650e+03, 5.8260e+03, 5.6750e+03,\n",
       "        5.6360e+03, 5.6050e+03, 5.6540e+03, 5.5820e+03, 5.5370e+03,\n",
       "        5.3920e+03, 5.3570e+03, 5.2900e+03, 5.2910e+03, 5.1890e+03,\n",
       "        5.1760e+03, 5.1930e+03, 5.0880e+03, 4.9150e+03, 5.0210e+03,\n",
       "        4.9930e+03, 4.7820e+03, 4.9000e+03, 4.8560e+03, 4.7700e+03,\n",
       "        4.5940e+03, 4.8040e+03, 4.6770e+03, 4.5610e+03, 4.5640e+03,\n",
       "        4.5460e+03, 4.4460e+03, 4.4630e+03, 4.3610e+03, 4.3300e+03,\n",
       "        4.3730e+03, 4.1280e+03, 4.2030e+03, 4.1350e+03, 4.0790e+03,\n",
       "        3.9430e+03, 3.9840e+03, 4.0750e+03, 3.8130e+03, 3.8680e+03,\n",
       "        3.9930e+03, 3.8580e+03, 3.7580e+03, 3.7660e+03, 3.8650e+03,\n",
       "        3.6730e+03, 3.6870e+03, 3.5740e+03, 3.4980e+03, 3.3930e+03,\n",
       "        3.4580e+03, 3.5370e+03, 3.2970e+03, 3.3120e+03, 3.2760e+03,\n",
       "        3.3970e+03, 3.3080e+03, 3.2600e+03, 3.2050e+03, 3.1880e+03,\n",
       "        3.2050e+03, 3.0760e+03, 3.1020e+03, 3.0940e+03, 3.0760e+03,\n",
       "        3.0960e+03, 3.0320e+03, 2.9180e+03, 2.9400e+03, 2.8530e+03,\n",
       "        2.9050e+03, 2.7540e+03, 2.8070e+03, 2.7660e+03, 2.7720e+03,\n",
       "        2.7320e+03, 2.7090e+03, 2.7550e+03, 2.6820e+03, 2.6550e+03,\n",
       "        2.6090e+03, 2.5400e+03, 2.5170e+03, 2.4650e+03, 2.4880e+03,\n",
       "        2.5120e+03, 2.5120e+03, 2.4110e+03, 2.4040e+03, 2.3970e+03,\n",
       "        2.4010e+03, 2.1610e+03, 2.3470e+03, 2.2860e+03, 2.2780e+03,\n",
       "        2.3230e+03, 2.3010e+03, 2.2030e+03, 2.2000e+03, 2.1780e+03,\n",
       "        2.2000e+03, 2.1500e+03, 2.1660e+03, 2.1430e+03, 1.9980e+03,\n",
       "        1.9860e+03, 1.9990e+03, 1.9550e+03, 1.9640e+03, 1.9820e+03,\n",
       "        1.9760e+03, 1.8650e+03, 1.9270e+03, 1.8070e+03, 1.8760e+03,\n",
       "        1.8420e+03, 1.8040e+03, 1.8070e+03, 1.8160e+03, 1.7260e+03,\n",
       "        1.7110e+03, 1.7070e+03, 1.7510e+03, 1.7010e+03, 1.7380e+03,\n",
       "        1.7000e+03, 1.7060e+03, 1.6570e+03, 1.6000e+03, 1.5960e+03,\n",
       "        1.5660e+03, 1.5600e+03, 1.5810e+03, 1.4730e+03, 1.4570e+03,\n",
       "        1.5410e+03, 1.5290e+03, 1.5070e+03, 1.4700e+03, 1.3300e+03,\n",
       "        1.4720e+03, 1.3800e+03, 1.3910e+03, 1.3620e+03, 1.3440e+03,\n",
       "        1.3970e+03, 1.3890e+03, 1.3860e+03, 1.3790e+03, 1.3580e+03,\n",
       "        1.2500e+03, 1.2900e+03, 1.2100e+03, 1.2210e+03, 1.2280e+03,\n",
       "        1.3360e+03, 1.2370e+03, 1.1200e+03, 1.1610e+03, 1.2410e+03,\n",
       "        1.1730e+03, 1.1480e+03, 1.1620e+03, 1.1460e+03, 1.1070e+03,\n",
       "        1.0810e+03, 1.0840e+03, 1.1450e+03, 1.1230e+03, 1.0890e+03,\n",
       "        1.0680e+03, 1.0300e+03, 1.1140e+03, 1.0060e+03, 1.0050e+03,\n",
       "        9.7900e+02, 1.0110e+03, 9.9100e+02, 9.8200e+02, 9.6400e+02,\n",
       "        9.7800e+02, 9.4600e+02, 9.6000e+02, 9.4000e+02, 9.1900e+02,\n",
       "        9.3600e+02, 8.7000e+02, 8.8600e+02, 9.1800e+02, 9.5800e+02,\n",
       "        9.0700e+02, 8.9500e+02, 8.1500e+02, 8.7000e+02, 8.6400e+02,\n",
       "        8.2100e+02, 8.2900e+02, 8.1000e+02, 7.8400e+02, 7.9900e+02,\n",
       "        7.7600e+02, 7.9800e+02, 7.4100e+02, 7.3500e+02, 7.8100e+02,\n",
       "        7.6100e+02, 7.5700e+02, 7.5400e+02, 7.9500e+02, 7.4300e+02,\n",
       "        6.8500e+02, 7.4300e+02, 7.2100e+02, 6.8000e+02, 6.4400e+02,\n",
       "        6.6500e+02, 7.1000e+02, 6.8200e+02, 6.8900e+02, 6.4600e+02,\n",
       "        6.4900e+02, 6.4900e+02, 6.9000e+02, 6.3500e+02, 5.8600e+02,\n",
       "        6.2200e+02, 6.3700e+02, 5.8700e+02, 6.2700e+02, 5.8100e+02,\n",
       "        6.0200e+02, 5.7500e+02, 5.9600e+02, 5.6500e+02, 5.3100e+02,\n",
       "        5.4400e+02, 5.4900e+02, 5.1900e+02, 5.2800e+02, 5.6100e+02,\n",
       "        5.1600e+02, 5.3000e+02, 5.1700e+02, 5.1500e+02, 5.3300e+02,\n",
       "        5.2700e+02, 4.8500e+02, 5.0900e+02, 5.0600e+02, 5.0200e+02,\n",
       "        5.0500e+02, 4.6300e+02, 4.9100e+02, 4.5800e+02, 4.8600e+02,\n",
       "        4.7600e+02, 4.8200e+02, 4.6600e+02, 4.5500e+02, 4.6200e+02,\n",
       "        4.5800e+02, 4.3700e+02, 4.5700e+02, 4.2900e+02, 4.1500e+02,\n",
       "        4.2900e+02, 4.1600e+02, 4.2000e+02, 3.7000e+02, 4.0100e+02,\n",
       "        3.2400e+02, 4.1800e+02, 3.9500e+02, 3.9900e+02, 4.0100e+02,\n",
       "        3.9200e+02, 3.5500e+02, 3.6200e+02, 3.6600e+02, 3.1900e+02,\n",
       "        3.4800e+02, 3.3000e+02, 3.6300e+02, 3.4400e+02, 3.3800e+02,\n",
       "        3.3300e+02, 3.2100e+02, 3.6900e+02, 3.0600e+02, 3.3800e+02,\n",
       "        3.1600e+02, 2.9300e+02, 3.4200e+02, 2.9500e+02, 2.8500e+02,\n",
       "        3.4300e+02, 2.7700e+02, 2.8600e+02, 2.8900e+02, 3.0500e+02,\n",
       "        2.9600e+02, 2.9200e+02, 2.8700e+02, 2.9000e+02, 3.2400e+02,\n",
       "        3.0000e+02, 2.7000e+02, 2.7800e+02, 2.8200e+02, 2.6000e+02,\n",
       "        2.4100e+02, 2.5600e+02, 2.5900e+02, 2.7900e+02, 2.6500e+02,\n",
       "        2.5400e+02, 2.5500e+02, 2.4600e+02, 2.2600e+02, 2.4800e+02,\n",
       "        2.6400e+02, 2.6200e+02, 2.6200e+02, 2.3300e+02, 2.6400e+02,\n",
       "        2.1800e+02, 2.2300e+02, 2.0900e+02, 2.5300e+02, 2.0500e+02,\n",
       "        2.5100e+02, 2.3900e+02, 2.1300e+02, 2.1600e+02, 2.3300e+02,\n",
       "        2.0100e+02, 2.4200e+02, 1.9800e+02, 2.4000e+02, 2.0600e+02,\n",
       "        2.0100e+02, 2.0800e+02, 1.9500e+02, 2.0900e+02, 1.9300e+02,\n",
       "        1.8500e+02, 1.9800e+02, 1.7500e+02, 1.8100e+02, 1.9900e+02,\n",
       "        2.0900e+02, 1.6700e+02, 1.8100e+02, 1.7200e+02, 1.7000e+02,\n",
       "        1.7900e+02, 1.6500e+02, 1.7300e+02, 1.7500e+02, 1.8300e+02,\n",
       "        1.6100e+02, 1.7000e+02, 1.5700e+02, 1.5700e+02, 1.6300e+02,\n",
       "        1.8000e+02, 1.5500e+02, 1.7700e+02, 1.9000e+02, 1.4700e+02,\n",
       "        1.4700e+02, 1.5900e+02, 1.5300e+02, 1.6900e+02, 1.3900e+02,\n",
       "        1.5400e+02, 1.5600e+02, 1.5000e+02, 1.5600e+02, 1.4900e+02,\n",
       "        1.5600e+02, 1.5900e+02, 1.5200e+02, 1.3300e+02, 1.3300e+02,\n",
       "        1.3900e+02, 1.5100e+02, 1.4800e+02, 1.3700e+02, 1.3500e+02,\n",
       "        1.4000e+02, 1.2600e+02, 1.2200e+02, 1.3900e+02, 1.3900e+02,\n",
       "        1.4100e+02, 1.1900e+02, 1.3900e+02, 1.4200e+02, 1.2100e+02,\n",
       "        1.4400e+02, 1.1800e+02, 1.4100e+02, 1.2900e+02, 1.0900e+02,\n",
       "        1.1500e+02, 1.3500e+02, 1.2000e+02, 1.3000e+02, 9.6000e+01,\n",
       "        9.4000e+01, 1.0800e+02, 1.0400e+02, 1.3200e+02, 1.0600e+02,\n",
       "        1.0200e+02, 1.0600e+02, 1.0800e+02, 1.1900e+02, 1.1400e+02,\n",
       "        1.0900e+02, 8.9000e+01, 8.8000e+01, 9.8000e+01, 1.0600e+02,\n",
       "        9.6000e+01, 1.0100e+02, 9.5000e+01, 9.1000e+01, 1.0900e+02,\n",
       "        9.8000e+01, 9.6000e+01, 1.0600e+02, 9.0000e+01, 1.1200e+02,\n",
       "        9.3000e+01, 1.0700e+02, 1.0300e+02, 8.9000e+01, 1.0600e+02,\n",
       "        8.8000e+01, 9.5000e+01, 8.4000e+01, 8.1000e+01, 8.1000e+01,\n",
       "        8.7000e+01, 8.3000e+01, 8.5000e+01, 8.7000e+01, 8.4000e+01,\n",
       "        7.1000e+01, 7.4000e+01, 7.6000e+01, 8.2000e+01, 9.8000e+01,\n",
       "        6.6000e+01, 7.8000e+01, 9.4000e+01, 7.7000e+01, 7.6000e+01,\n",
       "        7.4000e+01, 7.3000e+01, 8.0000e+01, 8.3000e+01, 8.1000e+01,\n",
       "        7.9000e+01, 8.2000e+01, 6.6000e+01, 6.9000e+01, 6.1000e+01,\n",
       "        6.1000e+01, 6.9000e+01, 7.9000e+01, 8.5000e+01, 6.4000e+01,\n",
       "        6.8000e+01, 6.0000e+01, 7.7000e+01, 8.3000e+01, 7.5000e+01,\n",
       "        6.0000e+01, 6.2000e+01, 6.9000e+01, 6.3000e+01, 6.2000e+01,\n",
       "        6.2000e+01, 6.5000e+01, 7.0000e+01, 7.1000e+01, 6.8000e+01,\n",
       "        7.7000e+01, 7.5000e+01, 5.6000e+01, 6.3000e+01, 6.2000e+01,\n",
       "        6.7000e+01, 5.7000e+01, 7.1000e+01, 5.3000e+01, 6.9000e+01,\n",
       "        5.8000e+01, 6.7000e+01, 6.2000e+01, 5.9000e+01, 5.4000e+01,\n",
       "        5.5000e+01, 5.6000e+01, 8.6000e+01, 5.2000e+01, 5.7000e+01,\n",
       "        5.9000e+01, 5.6000e+01, 5.2000e+01, 6.4000e+01, 6.5000e+01,\n",
       "        5.3000e+01, 4.6000e+01, 4.9000e+01, 5.0000e+01, 4.2000e+01,\n",
       "        5.5000e+01, 6.5000e+01, 4.2000e+01, 4.7000e+01, 4.7000e+01,\n",
       "        5.6000e+01, 5.0000e+01, 6.0000e+01, 6.4000e+01, 5.1000e+01,\n",
       "        5.4000e+01, 5.1000e+01, 5.2000e+01, 4.7000e+01, 6.7000e+01,\n",
       "        4.3000e+01, 4.6000e+01, 6.1000e+01, 4.5000e+01, 3.6000e+01,\n",
       "        4.9000e+01, 5.7000e+01, 4.8000e+01, 4.5000e+01, 4.2000e+01,\n",
       "        4.3000e+01, 4.9000e+01, 5.0000e+01, 5.2000e+01, 3.7000e+01,\n",
       "        4.3000e+01, 5.2000e+01, 5.7000e+01, 4.0000e+01, 5.7000e+01,\n",
       "        4.9000e+01, 3.9000e+01, 4.2000e+01, 5.1000e+01, 4.3000e+01,\n",
       "        4.2000e+01, 3.5000e+01, 4.9000e+01, 6.0000e+01, 4.2000e+01,\n",
       "        5.0000e+01, 3.8000e+01, 4.8000e+01, 3.8000e+01, 4.4000e+01,\n",
       "        4.0000e+01, 3.6000e+01, 4.5000e+01, 3.4000e+01, 3.4000e+01,\n",
       "        4.0000e+01, 4.2000e+01, 2.7000e+01, 3.6000e+01, 3.6000e+01,\n",
       "        3.6000e+01, 4.6000e+01, 3.3000e+01, 3.5000e+01, 3.7000e+01,\n",
       "        3.7000e+01, 4.1000e+01, 3.0000e+01, 2.8000e+01, 4.0000e+01,\n",
       "        3.3000e+01, 3.4000e+01, 2.8000e+01, 4.2000e+01, 3.7000e+01,\n",
       "        3.4000e+01, 3.1000e+01, 2.9000e+01, 2.4000e+01, 3.1000e+01,\n",
       "        4.2000e+01, 2.6000e+01, 2.5000e+01, 2.7000e+01, 3.8000e+01,\n",
       "        3.3000e+01, 3.7000e+01, 3.6000e+01, 3.4000e+01, 3.9000e+01,\n",
       "        2.7000e+01, 2.9000e+01, 3.8000e+01, 3.5000e+01, 3.1000e+01,\n",
       "        3.9000e+01, 3.0000e+01, 3.5000e+01, 4.0000e+01, 2.7000e+01,\n",
       "        2.9000e+01, 2.6000e+01, 3.1000e+01, 3.5000e+01, 2.8000e+01,\n",
       "        1.9000e+01, 1.8000e+01, 2.9000e+01, 3.6000e+01, 2.2000e+01,\n",
       "        2.9000e+01, 2.7000e+01, 3.0000e+01, 3.7000e+01, 2.6000e+01,\n",
       "        2.3000e+01, 2.8000e+01, 2.5000e+01, 3.5000e+01, 3.1000e+01,\n",
       "        2.9000e+01, 3.7000e+01, 2.6000e+01, 3.2000e+01, 2.3000e+01,\n",
       "        2.6000e+01, 4.1000e+01, 3.2000e+01, 2.8000e+01, 2.6000e+01,\n",
       "        2.1000e+01, 2.1000e+01, 1.8000e+01, 2.2000e+01, 2.8000e+01,\n",
       "        2.2000e+01, 2.3000e+01, 1.4000e+01, 2.6000e+01, 2.5000e+01,\n",
       "        2.6000e+01, 2.1000e+01, 3.1000e+01, 2.1000e+01, 2.5000e+01,\n",
       "        1.5000e+01, 2.3000e+01, 2.5000e+01, 2.1000e+01, 2.8000e+01,\n",
       "        1.9000e+01, 1.8000e+01, 2.2000e+01, 1.8000e+01, 2.7000e+01,\n",
       "        2.5000e+01, 2.2000e+01, 2.1000e+01, 3.1000e+01, 3.3000e+01,\n",
       "        2.5000e+01, 1.9000e+01, 2.6000e+01, 2.3000e+01, 2.7000e+01]),\n",
       " array([    0.,    25.,    50.,    75.,   100.,   125.,   150.,   175.,\n",
       "          200.,   225.,   250.,   275.,   300.,   325.,   350.,   375.,\n",
       "          400.,   425.,   450.,   475.,   500.,   525.,   550.,   575.,\n",
       "          600.,   625.,   650.,   675.,   700.,   725.,   750.,   775.,\n",
       "          800.,   825.,   850.,   875.,   900.,   925.,   950.,   975.,\n",
       "         1000.,  1025.,  1050.,  1075.,  1100.,  1125.,  1150.,  1175.,\n",
       "         1200.,  1225.,  1250.,  1275.,  1300.,  1325.,  1350.,  1375.,\n",
       "         1400.,  1425.,  1450.,  1475.,  1500.,  1525.,  1550.,  1575.,\n",
       "         1600.,  1625.,  1650.,  1675.,  1700.,  1725.,  1750.,  1775.,\n",
       "         1800.,  1825.,  1850.,  1875.,  1900.,  1925.,  1950.,  1975.,\n",
       "         2000.,  2025.,  2050.,  2075.,  2100.,  2125.,  2150.,  2175.,\n",
       "         2200.,  2225.,  2250.,  2275.,  2300.,  2325.,  2350.,  2375.,\n",
       "         2400.,  2425.,  2450.,  2475.,  2500.,  2525.,  2550.,  2575.,\n",
       "         2600.,  2625.,  2650.,  2675.,  2700.,  2725.,  2750.,  2775.,\n",
       "         2800.,  2825.,  2850.,  2875.,  2900.,  2925.,  2950.,  2975.,\n",
       "         3000.,  3025.,  3050.,  3075.,  3100.,  3125.,  3150.,  3175.,\n",
       "         3200.,  3225.,  3250.,  3275.,  3300.,  3325.,  3350.,  3375.,\n",
       "         3400.,  3425.,  3450.,  3475.,  3500.,  3525.,  3550.,  3575.,\n",
       "         3600.,  3625.,  3650.,  3675.,  3700.,  3725.,  3750.,  3775.,\n",
       "         3800.,  3825.,  3850.,  3875.,  3900.,  3925.,  3950.,  3975.,\n",
       "         4000.,  4025.,  4050.,  4075.,  4100.,  4125.,  4150.,  4175.,\n",
       "         4200.,  4225.,  4250.,  4275.,  4300.,  4325.,  4350.,  4375.,\n",
       "         4400.,  4425.,  4450.,  4475.,  4500.,  4525.,  4550.,  4575.,\n",
       "         4600.,  4625.,  4650.,  4675.,  4700.,  4725.,  4750.,  4775.,\n",
       "         4800.,  4825.,  4850.,  4875.,  4900.,  4925.,  4950.,  4975.,\n",
       "         5000.,  5025.,  5050.,  5075.,  5100.,  5125.,  5150.,  5175.,\n",
       "         5200.,  5225.,  5250.,  5275.,  5300.,  5325.,  5350.,  5375.,\n",
       "         5400.,  5425.,  5450.,  5475.,  5500.,  5525.,  5550.,  5575.,\n",
       "         5600.,  5625.,  5650.,  5675.,  5700.,  5725.,  5750.,  5775.,\n",
       "         5800.,  5825.,  5850.,  5875.,  5900.,  5925.,  5950.,  5975.,\n",
       "         6000.,  6025.,  6050.,  6075.,  6100.,  6125.,  6150.,  6175.,\n",
       "         6200.,  6225.,  6250.,  6275.,  6300.,  6325.,  6350.,  6375.,\n",
       "         6400.,  6425.,  6450.,  6475.,  6500.,  6525.,  6550.,  6575.,\n",
       "         6600.,  6625.,  6650.,  6675.,  6700.,  6725.,  6750.,  6775.,\n",
       "         6800.,  6825.,  6850.,  6875.,  6900.,  6925.,  6950.,  6975.,\n",
       "         7000.,  7025.,  7050.,  7075.,  7100.,  7125.,  7150.,  7175.,\n",
       "         7200.,  7225.,  7250.,  7275.,  7300.,  7325.,  7350.,  7375.,\n",
       "         7400.,  7425.,  7450.,  7475.,  7500.,  7525.,  7550.,  7575.,\n",
       "         7600.,  7625.,  7650.,  7675.,  7700.,  7725.,  7750.,  7775.,\n",
       "         7800.,  7825.,  7850.,  7875.,  7900.,  7925.,  7950.,  7975.,\n",
       "         8000.,  8025.,  8050.,  8075.,  8100.,  8125.,  8150.,  8175.,\n",
       "         8200.,  8225.,  8250.,  8275.,  8300.,  8325.,  8350.,  8375.,\n",
       "         8400.,  8425.,  8450.,  8475.,  8500.,  8525.,  8550.,  8575.,\n",
       "         8600.,  8625.,  8650.,  8675.,  8700.,  8725.,  8750.,  8775.,\n",
       "         8800.,  8825.,  8850.,  8875.,  8900.,  8925.,  8950.,  8975.,\n",
       "         9000.,  9025.,  9050.,  9075.,  9100.,  9125.,  9150.,  9175.,\n",
       "         9200.,  9225.,  9250.,  9275.,  9300.,  9325.,  9350.,  9375.,\n",
       "         9400.,  9425.,  9450.,  9475.,  9500.,  9525.,  9550.,  9575.,\n",
       "         9600.,  9625.,  9650.,  9675.,  9700.,  9725.,  9750.,  9775.,\n",
       "         9800.,  9825.,  9850.,  9875.,  9900.,  9925.,  9950.,  9975.,\n",
       "        10000., 10025., 10050., 10075., 10100., 10125., 10150., 10175.,\n",
       "        10200., 10225., 10250., 10275., 10300., 10325., 10350., 10375.,\n",
       "        10400., 10425., 10450., 10475., 10500., 10525., 10550., 10575.,\n",
       "        10600., 10625., 10650., 10675., 10700., 10725., 10750., 10775.,\n",
       "        10800., 10825., 10850., 10875., 10900., 10925., 10950., 10975.,\n",
       "        11000., 11025., 11050., 11075., 11100., 11125., 11150., 11175.,\n",
       "        11200., 11225., 11250., 11275., 11300., 11325., 11350., 11375.,\n",
       "        11400., 11425., 11450., 11475., 11500., 11525., 11550., 11575.,\n",
       "        11600., 11625., 11650., 11675., 11700., 11725., 11750., 11775.,\n",
       "        11800., 11825., 11850., 11875., 11900., 11925., 11950., 11975.,\n",
       "        12000., 12025., 12050., 12075., 12100., 12125., 12150., 12175.,\n",
       "        12200., 12225., 12250., 12275., 12300., 12325., 12350., 12375.,\n",
       "        12400., 12425., 12450., 12475., 12500., 12525., 12550., 12575.,\n",
       "        12600., 12625., 12650., 12675., 12700., 12725., 12750., 12775.,\n",
       "        12800., 12825., 12850., 12875., 12900., 12925., 12950., 12975.,\n",
       "        13000., 13025., 13050., 13075., 13100., 13125., 13150., 13175.,\n",
       "        13200., 13225., 13250., 13275., 13300., 13325., 13350., 13375.,\n",
       "        13400., 13425., 13450., 13475., 13500., 13525., 13550., 13575.,\n",
       "        13600., 13625., 13650., 13675., 13700., 13725., 13750., 13775.,\n",
       "        13800., 13825., 13850., 13875., 13900., 13925., 13950., 13975.,\n",
       "        14000., 14025., 14050., 14075., 14100., 14125., 14150., 14175.,\n",
       "        14200., 14225., 14250., 14275., 14300., 14325., 14350., 14375.,\n",
       "        14400., 14425., 14450., 14475., 14500., 14525., 14550., 14575.,\n",
       "        14600., 14625., 14650., 14675., 14700., 14725., 14750., 14775.,\n",
       "        14800., 14825., 14850., 14875., 14900., 14925., 14950., 14975.,\n",
       "        15000., 15025., 15050., 15075., 15100., 15125., 15150., 15175.,\n",
       "        15200., 15225., 15250., 15275., 15300., 15325., 15350., 15375.,\n",
       "        15400., 15425., 15450., 15475., 15500., 15525., 15550., 15575.,\n",
       "        15600., 15625., 15650., 15675., 15700., 15725., 15750., 15775.,\n",
       "        15800., 15825., 15850., 15875., 15900., 15925., 15950., 15975.,\n",
       "        16000., 16025., 16050., 16075., 16100., 16125., 16150., 16175.,\n",
       "        16200., 16225., 16250., 16275., 16300., 16325., 16350., 16375.,\n",
       "        16400., 16425., 16450., 16475., 16500., 16525., 16550., 16575.,\n",
       "        16600., 16625., 16650., 16675., 16700., 16725., 16750., 16775.,\n",
       "        16800., 16825., 16850., 16875., 16900., 16925., 16950., 16975.,\n",
       "        17000., 17025., 17050., 17075., 17100., 17125., 17150., 17175.,\n",
       "        17200., 17225., 17250., 17275., 17300., 17325., 17350., 17375.,\n",
       "        17400., 17425., 17450., 17475., 17500., 17525., 17550., 17575.,\n",
       "        17600., 17625., 17650., 17675., 17700., 17725., 17750., 17775.,\n",
       "        17800., 17825., 17850., 17875., 17900., 17925., 17950., 17975.,\n",
       "        18000., 18025., 18050., 18075., 18100., 18125., 18150., 18175.,\n",
       "        18200., 18225., 18250., 18275., 18300., 18325., 18350., 18375.,\n",
       "        18400., 18425., 18450., 18475., 18500., 18525., 18550., 18575.,\n",
       "        18600., 18625., 18650., 18675., 18700., 18725., 18750., 18775.,\n",
       "        18800., 18825., 18850., 18875., 18900., 18925., 18950., 18975.,\n",
       "        19000., 19025., 19050., 19075., 19100., 19125., 19150., 19175.,\n",
       "        19200., 19225., 19250., 19275., 19300., 19325., 19350., 19375.,\n",
       "        19400., 19425., 19450., 19475., 19500., 19525., 19550., 19575.,\n",
       "        19600., 19625., 19650., 19675., 19700., 19725., 19750., 19775.,\n",
       "        19800., 19825., 19850., 19875., 19900., 19925., 19950., 19975.,\n",
       "        20000.]),\n",
       " <BarContainer object of 800 artists>)"
      ]
     },
     "execution_count": 9,
     "metadata": {},
     "output_type": "execute_result"
    },
    {
     "data": {
      "image/png": "[encoded data removed]",
      "text/plain": [
       "<Figure size 432x288 with 1 Axes>"
      ]
     },
     "metadata": {
      "needs_background": "light"
     },
     "output_type": "display_data"
    }
   ],
   "source": [
    "# use the max 4 percent in infection channel\n",
    "plt.hist(df.last4percentmean.to_list(), range=(0, 20000), bins=800)"
   ]
  },
  {
   "cell_type": "code",
   "execution_count": 10,
   "metadata": {},
   "outputs": [],
   "source": [
    "threshold_value = 3000"
   ]
  },
  {
   "cell_type": "code",
   "execution_count": 11,
   "metadata": {},
   "outputs": [],
   "source": [
    "df  = df.assign(**dict.fromkeys([\"Infected\"], 0))\n",
    "df.loc[df.last4percentmean > threshold_value, 'Infected'] = 1"
   ]
  },
  {
   "cell_type": "markdown",
   "metadata": {},
   "source": [
    "### define cell infection end"
   ]
  },
  {
   "cell_type": "markdown",
   "metadata": {},
   "source": [
    "### verify cell _infection"
   ]
  },
  {
   "cell_type": "code",
   "execution_count": 12,
   "metadata": {},
   "outputs": [],
   "source": [
    "from covid_screening_quantify import show_infections"
   ]
  },
  {
   "cell_type": "code",
   "execution_count": null,
   "metadata": {},
   "outputs": [],
   "source": [
    "well_fov = 'r01c18f01'\n",
    "img = show_infections(df, well_fov, dim_er=True, contour=True, show_er=False)\n",
    "fig, axes = plt.subplots(nrows=1, ncols=1, figsize=(40, 40))\n",
    "#ax = axes.ravel()\n",
    "axes.imshow(img/img.max())"
   ]
  },
  {
   "cell_type": "markdown",
   "metadata": {},
   "source": [
    "### get analysis result"
   ]
  },
  {
   "cell_type": "code",
   "execution_count": null,
   "metadata": {},
   "outputs": [],
   "source": [
    "from covid_screening_quantify import plate_plots, plate_infection"
   ]
  },
  {
   "cell_type": "code",
   "execution_count": null,
   "metadata": {},
   "outputs": [],
   "source": [
    "processed_folder = \"/home/haoxu/data/Images_processed\"\n",
    "#infection_data = plate_infection(processed_folder, infection_threshold=3000)\n",
    "#infection_data"
   ]
  },
  {
   "cell_type": "markdown",
   "metadata": {},
   "source": [
    "### plot plate map for infections"
   ]
  },
  {
   "cell_type": "code",
   "execution_count": null,
   "metadata": {},
   "outputs": [],
   "source": [
    "#!pip install seaborn"
   ]
  },
  {
   "cell_type": "code",
   "execution_count": null,
   "metadata": {},
   "outputs": [],
   "source": [
    "#import seaborn as sns; sns.set_theme()"
   ]
  },
  {
   "cell_type": "code",
   "execution_count": null,
   "metadata": {},
   "outputs": [],
   "source": [
    "plate_plots(processed_folder, infection_threshold=3000)"
   ]
  },
  {
   "cell_type": "code",
   "execution_count": null,
   "metadata": {},
   "outputs": [],
   "source": []
  }
 ],
 "metadata": {
  "kernelspec": {
   "display_name": "Python 3",
   "language": "python",
   "name": "python3"
  },
  "language_info": {
   "codemirror_mode": {
    "name": "ipython",
    "version": 3
   },
   "file_extension": ".py",
   "mimetype": "text/x-python",
   "name": "python",
   "nbconvert_exporter": "python",
   "pygments_lexer": "ipython3",
   "version": "3.7.9"
  }
 },
 "nbformat": 4,
 "nbformat_minor": 4
}
