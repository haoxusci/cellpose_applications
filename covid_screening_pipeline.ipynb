{
 "cells": [
  {
   "cell_type": "markdown",
   "metadata": {},
   "source": [
    "### generate the pandas data"
   ]
  },
  {
   "cell_type": "code",
   "execution_count": null,
   "metadata": {},
   "outputs": [],
   "source": [
    "import pandas as pd\n",
    "from matplotlib import pyplot as plt\n",
    "from covid_screening_quantify import quantify_all_fovs, combine_all_quantify, write_conditions"
   ]
  },
  {
   "cell_type": "code",
   "execution_count": null,
   "metadata": {},
   "outputs": [],
   "source": [
    "# test parameter\n",
    "#image_folder = '/home/haoxu/data/Images'"
   ]
  },
  {
   "cell_type": "code",
   "execution_count": null,
   "metadata": {},
   "outputs": [],
   "source": [
    "#quantify_all_fovs(image_folder)"
   ]
  },
  {
   "cell_type": "markdown",
   "metadata": {},
   "source": [
    "### combine csv data of all images"
   ]
  },
  {
   "cell_type": "code",
   "execution_count": null,
   "metadata": {},
   "outputs": [],
   "source": [
    "#processed_folder = \"/home/haoxu/data/Images_processed\""
   ]
  },
  {
   "cell_type": "code",
   "execution_count": null,
   "metadata": {},
   "outputs": [],
   "source": [
    "#combine_all_quantify(processed_folder)"
   ]
  },
  {
   "cell_type": "markdown",
   "metadata": {},
   "source": [
    "### generate the pandas data end"
   ]
  },
  {
   "cell_type": "markdown",
   "metadata": {},
   "source": [
    "### get the conditions"
   ]
  },
  {
   "cell_type": "code",
   "execution_count": null,
   "metadata": {},
   "outputs": [],
   "source": [
    "import os\n",
    "import pandas as pd\n",
    "import numpy as np"
   ]
  },
  {
   "cell_type": "code",
   "execution_count": null,
   "metadata": {},
   "outputs": [],
   "source": [
    "# write the conditions to csv\n",
    "processed_folder = \"/home/haoxu/data/Images_processed\"\n",
    "quantify_csv_file = os.path.join(processed_folder, 'quantify_all.csv')\n",
    "condition_xlsx_file = 'test/Plate map test plates 2020-11-25.xlsx'\n",
    "write_conditions(quantify_csv_file, condition_xlsx_file)"
   ]
  },
  {
   "cell_type": "markdown",
   "metadata": {},
   "source": [
    "### define cell infection"
   ]
  },
  {
   "cell_type": "code",
   "execution_count": null,
   "metadata": {},
   "outputs": [],
   "source": [
    "import pandas as pd\n",
    "import os\n",
    "from imageio import imread\n",
    "from matplotlib import pyplot as plt\n",
    "from skimage import segmentation, morphology, exposure\n",
    "import numpy as np"
   ]
  },
  {
   "cell_type": "code",
   "execution_count": null,
   "metadata": {},
   "outputs": [],
   "source": [
    "processed_folder = \"/home/haoxu/data/Images_processed\"\n",
    "df = pd.read_csv(os.path.join(processed_folder, 'quantify_all.csv'))"
   ]
  },
  {
   "cell_type": "code",
   "execution_count": null,
   "metadata": {},
   "outputs": [],
   "source": [
    "# use the max 4 percent in infection channel\n",
    "plt.hist(df.last4percentmean.to_list(), range=(0, 20000), bins=800)"
   ]
  },
  {
   "cell_type": "code",
   "execution_count": null,
   "metadata": {},
   "outputs": [],
   "source": [
    "# define the threshold value based on the plot above\n",
    "threshold_value = 4500"
   ]
  },
  {
   "cell_type": "code",
   "execution_count": null,
   "metadata": {},
   "outputs": [],
   "source": [
    "df  = df.assign(**dict.fromkeys([\"Infected\"], 0))\n",
    "df.loc[df.last4percentmean > threshold_value, 'Infected'] = 1"
   ]
  },
  {
   "cell_type": "markdown",
   "metadata": {},
   "source": [
    "### define cell infection end"
   ]
  },
  {
   "cell_type": "markdown",
   "metadata": {},
   "source": [
    "### verify cell _infection"
   ]
  },
  {
   "cell_type": "code",
   "execution_count": null,
   "metadata": {},
   "outputs": [],
   "source": [
    "well_fovs = list(set(df.well_fov.to_list()))\n",
    "#well_fovs"
   ]
  },
  {
   "cell_type": "code",
   "execution_count": null,
   "metadata": {},
   "outputs": [],
   "source": [
    "import random\n",
    "from covid_screening_quantify import show_infections"
   ]
  },
  {
   "cell_type": "code",
   "execution_count": null,
   "metadata": {},
   "outputs": [],
   "source": [
    "# show a random sample to see if the infected cells are correctly picked out.\n",
    "# if not, fine tune the threshold_value and run\n",
    "well_fov = random.choice(well_fovs)#'r02c16f04'\n",
    "print(well_fov)\n",
    "img = show_infections(df, well_fov, dim_er=True, contour=True, show_er=False)\n",
    "fig, axes = plt.subplots(nrows=1, ncols=1, figsize=(40, 40))\n",
    "#ax = axes.ravel()\n",
    "axes.imshow(img/img.max())"
   ]
  },
  {
   "cell_type": "markdown",
   "metadata": {},
   "source": [
    "### plot plate map for infections"
   ]
  },
  {
   "cell_type": "code",
   "execution_count": null,
   "metadata": {},
   "outputs": [],
   "source": [
    "from covid_screening_quantify import plate_plots"
   ]
  },
  {
   "cell_type": "code",
   "execution_count": null,
   "metadata": {},
   "outputs": [],
   "source": [
    "processed_folder = \"/home/haoxu/data/Images_processed\"\n",
    "plate_plots(processed_folder, infection_threshold=4500)"
   ]
  },
  {
   "cell_type": "markdown",
   "metadata": {},
   "source": [
    "### get analysis result"
   ]
  },
  {
   "cell_type": "code",
   "execution_count": null,
   "metadata": {},
   "outputs": [],
   "source": [
    "import os\n",
    "import numpy as np\n",
    "import pandas as pd\n",
    "#from covid_screening_quantify import plate_plots, plate_infection\n",
    "#infection_data = plate_infection(processed_folder, infection_threshold=3000)\n",
    "#infection_data"
   ]
  },
  {
   "cell_type": "code",
   "execution_count": null,
   "metadata": {},
   "outputs": [],
   "source": [
    "processed_folder = \"/home/haoxu/data/Images_processed\"\n",
    "infection_data = os.path.join(processed_folder, 'infection_data.csv')\n",
    "df_infection = pd.read_csv(infection_data)\n",
    "df_infection"
   ]
  },
  {
   "cell_type": "code",
   "execution_count": null,
   "metadata": {},
   "outputs": [],
   "source": [
    "#df_DMSO = df_infection.loc[df_infection['Compound']=='DMSO']\n",
    "#df_DMSO = df_DMSO.assign(**dict.fromkeys([\"control\"], np.nan))\n",
    "#DMSO_control_columns = ['23', '24']\n",
    "#df_DMSO[\"control\"] = \\\n",
    "#    df_DMSO.well_id.apply(lambda item: 1 if item[4:] in DMSO_control_columns else 0)\n",
    "#df_DMSO.loc[(df_DMSO[\"control\"]==1)&(df_DMSO['Compound']=='DMSO')]"
   ]
  },
  {
   "cell_type": "markdown",
   "metadata": {},
   "source": [
    "### calculate z-prime statistic"
   ]
  },
  {
   "cell_type": "code",
   "execution_count": null,
   "metadata": {},
   "outputs": [],
   "source": [
    "df_DMSO = df_infection.loc[df_infection['Compound']=='DMSO']\n",
    "df_DMSO = df_DMSO = df_infection.loc[df_infection['Compound']=='DMSO'].assign(**dict.fromkeys([\"DMSO_infection_treated\"], np.nan))\n",
    "\n",
    "DMSO_control_columns = ['23', '24']\n",
    "df_DMSO[\"DMSO_control\"] = df_DMSO.well_id.apply(lambda item: 1 if item[4:] in DMSO_control_columns else 0)\n",
    "\n",
    "wells_noninfection = df_DMSO[df_DMSO[\"DMSO_control\"]==1]\n",
    "wells_noninfection_rates = wells_noninfection.infection_rates.to_list()\n",
    "DMSO_control_rates_stat = {\n",
    "    'mean': np.mean(wells_noninfection_rates),\n",
    "    'std': np.std(wells_noninfection_rates)\n",
    "}\n",
    "\n",
    "wells_infection = df_DMSO[df_DMSO[\"DMSO_control\"]==0]\n",
    "wells_infection_rates = wells_infection.infection_rates.to_list()\n",
    "DMSO_infection_rates_stat = {\n",
    "    'mean': np.mean(wells_infection_rates),\n",
    "    'std': np.std(wells_infection_rates)\n",
    "}\n",
    "\n",
    "print('DMSO_infection_rates_stat: ', DMSO_infection_rates_stat)\n",
    "print('DMSO_control_rates_stat: ', DMSO_control_rates_stat)\n",
    "z_factor = 1 - (\n",
    "    3 * (DMSO_infection_rates_stat['std'] + DMSO_control_rates_stat['std']) / \\\n",
    "    np.abs(DMSO_infection_rates_stat['mean'] - DMSO_control_rates_stat['mean'])\n",
    ")\n",
    "print('z factor: ', z_factor)"
   ]
  },
  {
   "cell_type": "code",
   "execution_count": null,
   "metadata": {},
   "outputs": [],
   "source": []
  }
 ],
 "metadata": {
  "kernelspec": {
   "display_name": "Python 3",
   "language": "python",
   "name": "python3"
  },
  "language_info": {
   "codemirror_mode": {
    "name": "ipython",
    "version": 3
   },
   "file_extension": ".py",
   "mimetype": "text/x-python",
   "name": "python",
   "nbconvert_exporter": "python",
   "pygments_lexer": "ipython3",
   "version": "3.7.9"
  }
 },
 "nbformat": 4,
 "nbformat_minor": 4
}
