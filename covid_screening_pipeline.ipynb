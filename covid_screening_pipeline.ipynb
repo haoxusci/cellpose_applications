{
 "cells": [
  {
   "cell_type": "markdown",
   "metadata": {},
   "source": [
    "### generate the pandas data"
   ]
  },
  {
   "cell_type": "code",
   "execution_count": 1,
   "metadata": {},
   "outputs": [
    {
     "name": "stdout",
     "output_type": "stream",
     "text": [
      "** TORCH CUDA version installed and working. **\n"
     ]
    }
   ],
   "source": [
    "import pandas as pd\n",
    "from matplotlib import pyplot as plt\n",
    "from covid_screening_quantify import quantify_all_fovs, combine_all_quantify, write_conditions"
   ]
  },
  {
   "cell_type": "code",
   "execution_count": null,
   "metadata": {},
   "outputs": [],
   "source": [
    "# test parameter\n",
    "#image_folder = '/home/haoxu/data/Images'"
   ]
  },
  {
   "cell_type": "code",
   "execution_count": null,
   "metadata": {},
   "outputs": [],
   "source": [
    "#quantify_all_fovs(image_folder)"
   ]
  },
  {
   "cell_type": "markdown",
   "metadata": {},
   "source": [
    "### combine csv data of all images"
   ]
  },
  {
   "cell_type": "code",
   "execution_count": null,
   "metadata": {},
   "outputs": [],
   "source": [
    "#processed_folder = \"/home/haoxu/data/Images_processed\""
   ]
  },
  {
   "cell_type": "code",
   "execution_count": null,
   "metadata": {},
   "outputs": [],
   "source": [
    "#combine_all_quantify(processed_folder)"
   ]
  },
  {
   "cell_type": "markdown",
   "metadata": {},
   "source": [
    "### generate the pandas data end"
   ]
  },
  {
   "cell_type": "markdown",
   "metadata": {},
   "source": [
    "### get the conditions"
   ]
  },
  {
   "cell_type": "code",
   "execution_count": 2,
   "metadata": {},
   "outputs": [],
   "source": [
    "import os\n",
    "import pandas as pd\n",
    "import numpy as np"
   ]
  },
  {
   "cell_type": "code",
   "execution_count": 3,
   "metadata": {},
   "outputs": [],
   "source": [
    "# write the conditions to csv\n",
    "processed_folder = \"/home/haoxu/data/Images_processed\"\n",
    "quantify_csv_file = os.path.join(processed_folder, 'quantify_all.csv')\n",
    "condition_xlsx_file = 'test/Plate map test plates 2020-11-25.xlsx'\n",
    "write_conditions(quantify_csv_file, condition_xlsx_file)"
   ]
  },
  {
   "cell_type": "markdown",
   "metadata": {},
   "source": [
    "### calculate z-prime statistic"
   ]
  },
  {
   "cell_type": "code",
   "execution_count": 24,
   "metadata": {},
   "outputs": [],
   "source": [
    "import numpy as np\n",
    "import pandas as pd\n",
    "processed_folder = \"/home/haoxu/data/Images_processed\"\n",
    "df = pd.read_csv(os.path.join(processed_folder, 'quantify_all.csv'))"
   ]
  },
  {
   "cell_type": "code",
   "execution_count": 27,
   "metadata": {},
   "outputs": [
    {
     "data": {
      "text/html": [
       "<div>\n",
       "<style scoped>\n",
       "    .dataframe tbody tr th:only-of-type {\n",
       "        vertical-align: middle;\n",
       "    }\n",
       "\n",
       "    .dataframe tbody tr th {\n",
       "        vertical-align: top;\n",
       "    }\n",
       "\n",
       "    .dataframe thead th {\n",
       "        text-align: right;\n",
       "    }\n",
       "</style>\n",
       "<table border=\"1\" class=\"dataframe\">\n",
       "  <thead>\n",
       "    <tr style=\"text-align: right;\">\n",
       "      <th></th>\n",
       "      <th>well_id</th>\n",
       "      <th>well_fov</th>\n",
       "      <th>nuclei_file</th>\n",
       "      <th>er_file</th>\n",
       "      <th>virus_file</th>\n",
       "      <th>mask_file</th>\n",
       "      <th>cell_idx</th>\n",
       "      <th>cell_size</th>\n",
       "      <th>cell_integ</th>\n",
       "      <th>cell_mean</th>\n",
       "      <th>last4percentmean</th>\n",
       "      <th>Compound</th>\n",
       "      <th>DMSO_infection_treated</th>\n",
       "    </tr>\n",
       "  </thead>\n",
       "  <tbody>\n",
       "    <tr>\n",
       "      <th>0</th>\n",
       "      <td>r12c13</td>\n",
       "      <td>r12c13f04</td>\n",
       "      <td>/home/haoxu/data/Images/r12c13f04p01-ch1sk1fk1...</td>\n",
       "      <td>/home/haoxu/data/Images/r12c13f04p01-ch3sk1fk1...</td>\n",
       "      <td>/home/haoxu/data/Images/r12c13f04p01-ch2sk1fk1...</td>\n",
       "      <td>/home/haoxu/data/Images_processed/r12c13f04_ma...</td>\n",
       "      <td>1</td>\n",
       "      <td>42</td>\n",
       "      <td>60980</td>\n",
       "      <td>1451.904762</td>\n",
       "      <td>2699</td>\n",
       "      <td>Fenbendazole</td>\n",
       "      <td>1</td>\n",
       "    </tr>\n",
       "    <tr>\n",
       "      <th>1</th>\n",
       "      <td>r12c13</td>\n",
       "      <td>r12c13f04</td>\n",
       "      <td>/home/haoxu/data/Images/r12c13f04p01-ch1sk1fk1...</td>\n",
       "      <td>/home/haoxu/data/Images/r12c13f04p01-ch3sk1fk1...</td>\n",
       "      <td>/home/haoxu/data/Images/r12c13f04p01-ch2sk1fk1...</td>\n",
       "      <td>/home/haoxu/data/Images_processed/r12c13f04_ma...</td>\n",
       "      <td>2</td>\n",
       "      <td>109</td>\n",
       "      <td>201791</td>\n",
       "      <td>1851.293578</td>\n",
       "      <td>4066</td>\n",
       "      <td>Fenbendazole</td>\n",
       "      <td>1</td>\n",
       "    </tr>\n",
       "    <tr>\n",
       "      <th>2</th>\n",
       "      <td>r12c13</td>\n",
       "      <td>r12c13f04</td>\n",
       "      <td>/home/haoxu/data/Images/r12c13f04p01-ch1sk1fk1...</td>\n",
       "      <td>/home/haoxu/data/Images/r12c13f04p01-ch3sk1fk1...</td>\n",
       "      <td>/home/haoxu/data/Images/r12c13f04p01-ch2sk1fk1...</td>\n",
       "      <td>/home/haoxu/data/Images_processed/r12c13f04_ma...</td>\n",
       "      <td>3</td>\n",
       "      <td>164</td>\n",
       "      <td>372553</td>\n",
       "      <td>2271.664634</td>\n",
       "      <td>4441</td>\n",
       "      <td>Fenbendazole</td>\n",
       "      <td>1</td>\n",
       "    </tr>\n",
       "    <tr>\n",
       "      <th>3</th>\n",
       "      <td>r12c13</td>\n",
       "      <td>r12c13f04</td>\n",
       "      <td>/home/haoxu/data/Images/r12c13f04p01-ch1sk1fk1...</td>\n",
       "      <td>/home/haoxu/data/Images/r12c13f04p01-ch3sk1fk1...</td>\n",
       "      <td>/home/haoxu/data/Images/r12c13f04p01-ch2sk1fk1...</td>\n",
       "      <td>/home/haoxu/data/Images_processed/r12c13f04_ma...</td>\n",
       "      <td>4</td>\n",
       "      <td>95</td>\n",
       "      <td>147001</td>\n",
       "      <td>1547.378947</td>\n",
       "      <td>3032</td>\n",
       "      <td>Fenbendazole</td>\n",
       "      <td>1</td>\n",
       "    </tr>\n",
       "    <tr>\n",
       "      <th>4</th>\n",
       "      <td>r12c13</td>\n",
       "      <td>r12c13f04</td>\n",
       "      <td>/home/haoxu/data/Images/r12c13f04p01-ch1sk1fk1...</td>\n",
       "      <td>/home/haoxu/data/Images/r12c13f04p01-ch3sk1fk1...</td>\n",
       "      <td>/home/haoxu/data/Images/r12c13f04p01-ch2sk1fk1...</td>\n",
       "      <td>/home/haoxu/data/Images_processed/r12c13f04_ma...</td>\n",
       "      <td>5</td>\n",
       "      <td>180</td>\n",
       "      <td>298425</td>\n",
       "      <td>1657.916667</td>\n",
       "      <td>2713</td>\n",
       "      <td>Fenbendazole</td>\n",
       "      <td>1</td>\n",
       "    </tr>\n",
       "    <tr>\n",
       "      <th>...</th>\n",
       "      <td>...</td>\n",
       "      <td>...</td>\n",
       "      <td>...</td>\n",
       "      <td>...</td>\n",
       "      <td>...</td>\n",
       "      <td>...</td>\n",
       "      <td>...</td>\n",
       "      <td>...</td>\n",
       "      <td>...</td>\n",
       "      <td>...</td>\n",
       "      <td>...</td>\n",
       "      <td>...</td>\n",
       "      <td>...</td>\n",
       "    </tr>\n",
       "    <tr>\n",
       "      <th>1931559</th>\n",
       "      <td>r11c08</td>\n",
       "      <td>r11c08f04</td>\n",
       "      <td>/home/haoxu/data/Images/r11c08f04p01-ch1sk1fk1...</td>\n",
       "      <td>/home/haoxu/data/Images/r11c08f04p01-ch3sk1fk1...</td>\n",
       "      <td>/home/haoxu/data/Images/r11c08f04p01-ch2sk1fk1...</td>\n",
       "      <td>/home/haoxu/data/Images_processed/r11c08f04_ma...</td>\n",
       "      <td>1751</td>\n",
       "      <td>166</td>\n",
       "      <td>278463</td>\n",
       "      <td>1677.487952</td>\n",
       "      <td>3368</td>\n",
       "      <td>Ritonavir</td>\n",
       "      <td>1</td>\n",
       "    </tr>\n",
       "    <tr>\n",
       "      <th>1931560</th>\n",
       "      <td>r11c08</td>\n",
       "      <td>r11c08f04</td>\n",
       "      <td>/home/haoxu/data/Images/r11c08f04p01-ch1sk1fk1...</td>\n",
       "      <td>/home/haoxu/data/Images/r11c08f04p01-ch3sk1fk1...</td>\n",
       "      <td>/home/haoxu/data/Images/r11c08f04p01-ch2sk1fk1...</td>\n",
       "      <td>/home/haoxu/data/Images_processed/r11c08f04_ma...</td>\n",
       "      <td>1752</td>\n",
       "      <td>154</td>\n",
       "      <td>158748</td>\n",
       "      <td>1030.831169</td>\n",
       "      <td>1384</td>\n",
       "      <td>Ritonavir</td>\n",
       "      <td>1</td>\n",
       "    </tr>\n",
       "    <tr>\n",
       "      <th>1931561</th>\n",
       "      <td>r11c08</td>\n",
       "      <td>r11c08f04</td>\n",
       "      <td>/home/haoxu/data/Images/r11c08f04p01-ch1sk1fk1...</td>\n",
       "      <td>/home/haoxu/data/Images/r11c08f04p01-ch3sk1fk1...</td>\n",
       "      <td>/home/haoxu/data/Images/r11c08f04p01-ch2sk1fk1...</td>\n",
       "      <td>/home/haoxu/data/Images_processed/r11c08f04_ma...</td>\n",
       "      <td>1753</td>\n",
       "      <td>60</td>\n",
       "      <td>42584</td>\n",
       "      <td>709.733333</td>\n",
       "      <td>931</td>\n",
       "      <td>Ritonavir</td>\n",
       "      <td>1</td>\n",
       "    </tr>\n",
       "    <tr>\n",
       "      <th>1931562</th>\n",
       "      <td>r11c08</td>\n",
       "      <td>r11c08f04</td>\n",
       "      <td>/home/haoxu/data/Images/r11c08f04p01-ch1sk1fk1...</td>\n",
       "      <td>/home/haoxu/data/Images/r11c08f04p01-ch3sk1fk1...</td>\n",
       "      <td>/home/haoxu/data/Images/r11c08f04p01-ch2sk1fk1...</td>\n",
       "      <td>/home/haoxu/data/Images_processed/r11c08f04_ma...</td>\n",
       "      <td>1754</td>\n",
       "      <td>33</td>\n",
       "      <td>17425</td>\n",
       "      <td>528.030303</td>\n",
       "      <td>601</td>\n",
       "      <td>Ritonavir</td>\n",
       "      <td>1</td>\n",
       "    </tr>\n",
       "    <tr>\n",
       "      <th>1931563</th>\n",
       "      <td>r11c08</td>\n",
       "      <td>r11c08f04</td>\n",
       "      <td>/home/haoxu/data/Images/r11c08f04p01-ch1sk1fk1...</td>\n",
       "      <td>/home/haoxu/data/Images/r11c08f04p01-ch3sk1fk1...</td>\n",
       "      <td>/home/haoxu/data/Images/r11c08f04p01-ch2sk1fk1...</td>\n",
       "      <td>/home/haoxu/data/Images_processed/r11c08f04_ma...</td>\n",
       "      <td>1755</td>\n",
       "      <td>95</td>\n",
       "      <td>97760</td>\n",
       "      <td>1029.052632</td>\n",
       "      <td>1748</td>\n",
       "      <td>Ritonavir</td>\n",
       "      <td>1</td>\n",
       "    </tr>\n",
       "  </tbody>\n",
       "</table>\n",
       "<p>1931564 rows × 13 columns</p>\n",
       "</div>"
      ],
      "text/plain": [
       "        well_id   well_fov                                        nuclei_file  \\\n",
       "0        r12c13  r12c13f04  /home/haoxu/data/Images/r12c13f04p01-ch1sk1fk1...   \n",
       "1        r12c13  r12c13f04  /home/haoxu/data/Images/r12c13f04p01-ch1sk1fk1...   \n",
       "2        r12c13  r12c13f04  /home/haoxu/data/Images/r12c13f04p01-ch1sk1fk1...   \n",
       "3        r12c13  r12c13f04  /home/haoxu/data/Images/r12c13f04p01-ch1sk1fk1...   \n",
       "4        r12c13  r12c13f04  /home/haoxu/data/Images/r12c13f04p01-ch1sk1fk1...   \n",
       "...         ...        ...                                                ...   \n",
       "1931559  r11c08  r11c08f04  /home/haoxu/data/Images/r11c08f04p01-ch1sk1fk1...   \n",
       "1931560  r11c08  r11c08f04  /home/haoxu/data/Images/r11c08f04p01-ch1sk1fk1...   \n",
       "1931561  r11c08  r11c08f04  /home/haoxu/data/Images/r11c08f04p01-ch1sk1fk1...   \n",
       "1931562  r11c08  r11c08f04  /home/haoxu/data/Images/r11c08f04p01-ch1sk1fk1...   \n",
       "1931563  r11c08  r11c08f04  /home/haoxu/data/Images/r11c08f04p01-ch1sk1fk1...   \n",
       "\n",
       "                                                   er_file  \\\n",
       "0        /home/haoxu/data/Images/r12c13f04p01-ch3sk1fk1...   \n",
       "1        /home/haoxu/data/Images/r12c13f04p01-ch3sk1fk1...   \n",
       "2        /home/haoxu/data/Images/r12c13f04p01-ch3sk1fk1...   \n",
       "3        /home/haoxu/data/Images/r12c13f04p01-ch3sk1fk1...   \n",
       "4        /home/haoxu/data/Images/r12c13f04p01-ch3sk1fk1...   \n",
       "...                                                    ...   \n",
       "1931559  /home/haoxu/data/Images/r11c08f04p01-ch3sk1fk1...   \n",
       "1931560  /home/haoxu/data/Images/r11c08f04p01-ch3sk1fk1...   \n",
       "1931561  /home/haoxu/data/Images/r11c08f04p01-ch3sk1fk1...   \n",
       "1931562  /home/haoxu/data/Images/r11c08f04p01-ch3sk1fk1...   \n",
       "1931563  /home/haoxu/data/Images/r11c08f04p01-ch3sk1fk1...   \n",
       "\n",
       "                                                virus_file  \\\n",
       "0        /home/haoxu/data/Images/r12c13f04p01-ch2sk1fk1...   \n",
       "1        /home/haoxu/data/Images/r12c13f04p01-ch2sk1fk1...   \n",
       "2        /home/haoxu/data/Images/r12c13f04p01-ch2sk1fk1...   \n",
       "3        /home/haoxu/data/Images/r12c13f04p01-ch2sk1fk1...   \n",
       "4        /home/haoxu/data/Images/r12c13f04p01-ch2sk1fk1...   \n",
       "...                                                    ...   \n",
       "1931559  /home/haoxu/data/Images/r11c08f04p01-ch2sk1fk1...   \n",
       "1931560  /home/haoxu/data/Images/r11c08f04p01-ch2sk1fk1...   \n",
       "1931561  /home/haoxu/data/Images/r11c08f04p01-ch2sk1fk1...   \n",
       "1931562  /home/haoxu/data/Images/r11c08f04p01-ch2sk1fk1...   \n",
       "1931563  /home/haoxu/data/Images/r11c08f04p01-ch2sk1fk1...   \n",
       "\n",
       "                                                 mask_file  cell_idx  \\\n",
       "0        /home/haoxu/data/Images_processed/r12c13f04_ma...         1   \n",
       "1        /home/haoxu/data/Images_processed/r12c13f04_ma...         2   \n",
       "2        /home/haoxu/data/Images_processed/r12c13f04_ma...         3   \n",
       "3        /home/haoxu/data/Images_processed/r12c13f04_ma...         4   \n",
       "4        /home/haoxu/data/Images_processed/r12c13f04_ma...         5   \n",
       "...                                                    ...       ...   \n",
       "1931559  /home/haoxu/data/Images_processed/r11c08f04_ma...      1751   \n",
       "1931560  /home/haoxu/data/Images_processed/r11c08f04_ma...      1752   \n",
       "1931561  /home/haoxu/data/Images_processed/r11c08f04_ma...      1753   \n",
       "1931562  /home/haoxu/data/Images_processed/r11c08f04_ma...      1754   \n",
       "1931563  /home/haoxu/data/Images_processed/r11c08f04_ma...      1755   \n",
       "\n",
       "         cell_size  cell_integ    cell_mean  last4percentmean      Compound  \\\n",
       "0               42       60980  1451.904762              2699  Fenbendazole   \n",
       "1              109      201791  1851.293578              4066  Fenbendazole   \n",
       "2              164      372553  2271.664634              4441  Fenbendazole   \n",
       "3               95      147001  1547.378947              3032  Fenbendazole   \n",
       "4              180      298425  1657.916667              2713  Fenbendazole   \n",
       "...            ...         ...          ...               ...           ...   \n",
       "1931559        166      278463  1677.487952              3368     Ritonavir   \n",
       "1931560        154      158748  1030.831169              1384     Ritonavir   \n",
       "1931561         60       42584   709.733333               931     Ritonavir   \n",
       "1931562         33       17425   528.030303               601     Ritonavir   \n",
       "1931563         95       97760  1029.052632              1748     Ritonavir   \n",
       "\n",
       "         DMSO_infection_treated  \n",
       "0                             1  \n",
       "1                             1  \n",
       "2                             1  \n",
       "3                             1  \n",
       "4                             1  \n",
       "...                         ...  \n",
       "1931559                       1  \n",
       "1931560                       1  \n",
       "1931561                       1  \n",
       "1931562                       1  \n",
       "1931563                       1  \n",
       "\n",
       "[1931564 rows x 13 columns]"
      ]
     },
     "execution_count": 27,
     "metadata": {},
     "output_type": "execute_result"
    }
   ],
   "source": [
    "# attribute if an column is DMSO infection treated or not\n",
    "df  = df.assign(**dict.fromkeys([\"DMSO_infection_treated\"], np.nan))\n",
    "DMSO_infection_treated_columns = ['23', '24']\n",
    "df[\"DMSO_infection_treated\"] = df.well_id.apply(lambda item: 0 if item[4:] in DMSO_infection_treated_columns else 1)\n",
    "df"
   ]
  },
  {
   "cell_type": "code",
   "execution_count": 29,
   "metadata": {},
   "outputs": [
    {
     "name": "stdout",
     "output_type": "stream",
     "text": [
      "DMSO infection cells:  {'mean': 515395.17936383415, 'std': 402056.46709603845}\n",
      "DMSO noninfection cells:  {'mean': 285682.80562161957, 'std': 223789.37982704124}\n",
      "z prime factor:  -7.173427970738004\n"
     ]
    }
   ],
   "source": [
    "infection_rows = df[(df[\"DMSO_infection_treated\"]==1)&(df['Compound']=='DMSO')]\n",
    "infection_integration_values = infection_rows.cell_integ.to_list()\n",
    "DMSO_infection_treated_values = {\n",
    "    'mean': np.mean(infection_integration_values),\n",
    "    'std': np.std(infection_integration_values)\n",
    "}\n",
    "\n",
    "noninfection_rows = df[(df[\"DMSO_infection_treated\"]==0)&(df['Compound']=='DMSO')]\n",
    "noninfection_integration_values = noninfection_rows.cell_integ.to_list()\n",
    "DMSO_noninfection_treated_values = {\n",
    "    'mean': np.mean(noninfection_integration_values),\n",
    "    'std': np.std(noninfection_integration_values)\n",
    "}\n",
    "\n",
    "print('DMSO infection cells: ', DMSO_infection_treated_values)\n",
    "print('DMSO noninfection cells: ', DMSO_noninfection_treated_values)\n",
    "\n",
    "z_prime_factor = 1 - (\n",
    "    3 * (DMSO_infection_treated_values['std'] + DMSO_noninfection_treated_values['std']) / \\\n",
    "    np.abs(DMSO_infection_treated_values['mean'] - DMSO_noninfection_treated_values['mean'])\n",
    ")\n",
    "print('z prime factor: ', z_prime_factor)"
   ]
  },
  {
   "cell_type": "markdown",
   "metadata": {},
   "source": [
    "### define cell infection"
   ]
  },
  {
   "cell_type": "code",
   "execution_count": null,
   "metadata": {},
   "outputs": [],
   "source": [
    "import pandas as pd\n",
    "import os\n",
    "from imageio import imread\n",
    "from matplotlib import pyplot as plt\n",
    "from skimage import segmentation, morphology, exposure\n",
    "import numpy as np"
   ]
  },
  {
   "cell_type": "code",
   "execution_count": null,
   "metadata": {},
   "outputs": [],
   "source": [
    "processed_folder = \"/home/haoxu/data/Images_processed\"\n",
    "df = pd.read_csv(os.path.join(processed_folder, 'quantify_all.csv'))"
   ]
  },
  {
   "cell_type": "code",
   "execution_count": null,
   "metadata": {},
   "outputs": [],
   "source": [
    "# use the max 4 percent in infection channel\n",
    "plt.hist(df.last4percentmean.to_list(), range=(0, 20000), bins=800)"
   ]
  },
  {
   "cell_type": "code",
   "execution_count": null,
   "metadata": {},
   "outputs": [],
   "source": [
    "# define the threshold value based on the plot above\n",
    "threshold_value = 4000"
   ]
  },
  {
   "cell_type": "code",
   "execution_count": null,
   "metadata": {},
   "outputs": [],
   "source": [
    "df  = df.assign(**dict.fromkeys([\"Infected\"], 0))\n",
    "df.loc[df.last4percentmean > threshold_value, 'Infected'] = 1"
   ]
  },
  {
   "cell_type": "markdown",
   "metadata": {},
   "source": [
    "### define cell infection end"
   ]
  },
  {
   "cell_type": "markdown",
   "metadata": {},
   "source": [
    "### verify cell _infection"
   ]
  },
  {
   "cell_type": "code",
   "execution_count": null,
   "metadata": {},
   "outputs": [],
   "source": [
    "well_fovs = list(set(df.well_fov.to_list()))\n",
    "#well_fovs"
   ]
  },
  {
   "cell_type": "code",
   "execution_count": null,
   "metadata": {},
   "outputs": [],
   "source": [
    "import random\n",
    "from covid_screening_quantify import show_infections"
   ]
  },
  {
   "cell_type": "code",
   "execution_count": null,
   "metadata": {},
   "outputs": [],
   "source": [
    "# show a random sample to see if the infected cells are correctly picked out.\n",
    "# if not, fine tune the threshold_value and run\n",
    "well_fov = 'r02c16f04'#random.choice(well_fovs)\n",
    "print(well_fov)\n",
    "img = show_infections(df, well_fov, dim_er=True, contour=True, show_er=False)\n",
    "fig, axes = plt.subplots(nrows=1, ncols=1, figsize=(40, 40))\n",
    "#ax = axes.ravel()\n",
    "axes.imshow(img/img.max())"
   ]
  },
  {
   "cell_type": "markdown",
   "metadata": {},
   "source": [
    "### get analysis result"
   ]
  },
  {
   "cell_type": "code",
   "execution_count": null,
   "metadata": {},
   "outputs": [],
   "source": [
    "from covid_screening_quantify import plate_plots, plate_infection"
   ]
  },
  {
   "cell_type": "code",
   "execution_count": null,
   "metadata": {},
   "outputs": [],
   "source": [
    "processed_folder = \"/home/haoxu/data/Images_processed\"\n",
    "#infection_data = plate_infection(processed_folder, infection_threshold=3000)\n",
    "#infection_data"
   ]
  },
  {
   "cell_type": "markdown",
   "metadata": {},
   "source": [
    "### plot plate map for infections"
   ]
  },
  {
   "cell_type": "code",
   "execution_count": null,
   "metadata": {},
   "outputs": [],
   "source": [
    "plate_plots(processed_folder, infection_threshold=4000)"
   ]
  },
  {
   "cell_type": "code",
   "execution_count": null,
   "metadata": {},
   "outputs": [],
   "source": []
  }
 ],
 "metadata": {
  "kernelspec": {
   "display_name": "Python 3",
   "language": "python",
   "name": "python3"
  },
  "language_info": {
   "codemirror_mode": {
    "name": "ipython",
    "version": 3
   },
   "file_extension": ".py",
   "mimetype": "text/x-python",
   "name": "python",
   "nbconvert_exporter": "python",
   "pygments_lexer": "ipython3",
   "version": "3.7.9"
  }
 },
 "nbformat": 4,
 "nbformat_minor": 4
}
